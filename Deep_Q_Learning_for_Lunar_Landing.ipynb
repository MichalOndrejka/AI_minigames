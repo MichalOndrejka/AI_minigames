{
  "cells": [
    {
      "cell_type": "markdown",
      "metadata": {
        "id": "LbZcI9ZXHl3a"
      },
      "source": [
        "# Deep Q-Learning for Lunar Landing"
      ]
    },
    {
      "cell_type": "markdown",
      "metadata": {
        "id": "E8yPRjteXgPb"
      },
      "source": [
        "## Part 0 - Installing the required packages and importing the libraries"
      ]
    },
    {
      "cell_type": "markdown",
      "metadata": {
        "id": "slEm5teGWjWU"
      },
      "source": [
        "### Installing Gymnasium"
      ]
    },
    {
      "cell_type": "code",
      "execution_count": null,
      "metadata": {
        "id": "dbnq3XpoKa_7",
        "colab": {
          "base_uri": "https://localhost:8080/"
        },
        "outputId": "2adcaad7-bbd1-472d-9a5c-23354bad0c72"
      },
      "outputs": [
        {
          "output_type": "stream",
          "name": "stdout",
          "text": [
            "Collecting gymnasium\n",
            "  Downloading gymnasium-0.29.1-py3-none-any.whl (953 kB)\n",
            "\u001b[2K     \u001b[90m━━━━━━━━━━━━━━━━━━━━━━━━━━━━━━━━━━━━━━━━\u001b[0m \u001b[32m953.9/953.9 kB\u001b[0m \u001b[31m8.6 MB/s\u001b[0m eta \u001b[36m0:00:00\u001b[0m\n",
            "\u001b[?25hRequirement already satisfied: numpy>=1.21.0 in /usr/local/lib/python3.10/dist-packages (from gymnasium) (1.25.2)\n",
            "Requirement already satisfied: cloudpickle>=1.2.0 in /usr/local/lib/python3.10/dist-packages (from gymnasium) (2.2.1)\n",
            "Requirement already satisfied: typing-extensions>=4.3.0 in /usr/local/lib/python3.10/dist-packages (from gymnasium) (4.12.2)\n",
            "Collecting farama-notifications>=0.0.1 (from gymnasium)\n",
            "  Downloading Farama_Notifications-0.0.4-py3-none-any.whl (2.5 kB)\n",
            "Installing collected packages: farama-notifications, gymnasium\n",
            "Successfully installed farama-notifications-0.0.4 gymnasium-0.29.1\n",
            "Requirement already satisfied: gymnasium[accept-rom-license,atari] in /usr/local/lib/python3.10/dist-packages (0.29.1)\n",
            "Requirement already satisfied: numpy>=1.21.0 in /usr/local/lib/python3.10/dist-packages (from gymnasium[accept-rom-license,atari]) (1.25.2)\n",
            "Requirement already satisfied: cloudpickle>=1.2.0 in /usr/local/lib/python3.10/dist-packages (from gymnasium[accept-rom-license,atari]) (2.2.1)\n",
            "Requirement already satisfied: typing-extensions>=4.3.0 in /usr/local/lib/python3.10/dist-packages (from gymnasium[accept-rom-license,atari]) (4.12.2)\n",
            "Requirement already satisfied: farama-notifications>=0.0.1 in /usr/local/lib/python3.10/dist-packages (from gymnasium[accept-rom-license,atari]) (0.0.4)\n",
            "Collecting autorom[accept-rom-license]~=0.4.2 (from gymnasium[accept-rom-license,atari])\n",
            "  Downloading AutoROM-0.4.2-py3-none-any.whl (16 kB)\n",
            "Collecting shimmy[atari]<1.0,>=0.1.0 (from gymnasium[accept-rom-license,atari])\n",
            "  Downloading Shimmy-0.2.1-py3-none-any.whl (25 kB)\n",
            "Requirement already satisfied: click in /usr/local/lib/python3.10/dist-packages (from autorom[accept-rom-license]~=0.4.2->gymnasium[accept-rom-license,atari]) (8.1.7)\n",
            "Requirement already satisfied: requests in /usr/local/lib/python3.10/dist-packages (from autorom[accept-rom-license]~=0.4.2->gymnasium[accept-rom-license,atari]) (2.31.0)\n",
            "Requirement already satisfied: tqdm in /usr/local/lib/python3.10/dist-packages (from autorom[accept-rom-license]~=0.4.2->gymnasium[accept-rom-license,atari]) (4.66.4)\n",
            "Collecting AutoROM.accept-rom-license (from autorom[accept-rom-license]~=0.4.2->gymnasium[accept-rom-license,atari])\n",
            "  Downloading AutoROM.accept-rom-license-0.6.1.tar.gz (434 kB)\n",
            "\u001b[2K     \u001b[90m━━━━━━━━━━━━━━━━━━━━━━━━━━━━━━━━━━━━━━━━\u001b[0m \u001b[32m434.7/434.7 kB\u001b[0m \u001b[31m5.1 MB/s\u001b[0m eta \u001b[36m0:00:00\u001b[0m\n",
            "\u001b[?25h  Installing build dependencies ... \u001b[?25l\u001b[?25hdone\n",
            "  Getting requirements to build wheel ... \u001b[?25l\u001b[?25hdone\n",
            "  Preparing metadata (pyproject.toml) ... \u001b[?25l\u001b[?25hdone\n",
            "Collecting ale-py~=0.8.1 (from shimmy[atari]<1.0,>=0.1.0->gymnasium[accept-rom-license,atari])\n",
            "  Downloading ale_py-0.8.1-cp310-cp310-manylinux_2_17_x86_64.manylinux2014_x86_64.whl (1.7 MB)\n",
            "\u001b[2K     \u001b[90m━━━━━━━━━━━━━━━━━━━━━━━━━━━━━━━━━━━━━━━━\u001b[0m \u001b[32m1.7/1.7 MB\u001b[0m \u001b[31m8.7 MB/s\u001b[0m eta \u001b[36m0:00:00\u001b[0m\n",
            "\u001b[?25hRequirement already satisfied: importlib-resources in /usr/local/lib/python3.10/dist-packages (from ale-py~=0.8.1->shimmy[atari]<1.0,>=0.1.0->gymnasium[accept-rom-license,atari]) (6.4.0)\n",
            "Requirement already satisfied: charset-normalizer<4,>=2 in /usr/local/lib/python3.10/dist-packages (from requests->autorom[accept-rom-license]~=0.4.2->gymnasium[accept-rom-license,atari]) (3.3.2)\n",
            "Requirement already satisfied: idna<4,>=2.5 in /usr/local/lib/python3.10/dist-packages (from requests->autorom[accept-rom-license]~=0.4.2->gymnasium[accept-rom-license,atari]) (3.7)\n",
            "Requirement already satisfied: urllib3<3,>=1.21.1 in /usr/local/lib/python3.10/dist-packages (from requests->autorom[accept-rom-license]~=0.4.2->gymnasium[accept-rom-license,atari]) (2.0.7)\n",
            "Requirement already satisfied: certifi>=2017.4.17 in /usr/local/lib/python3.10/dist-packages (from requests->autorom[accept-rom-license]~=0.4.2->gymnasium[accept-rom-license,atari]) (2024.6.2)\n",
            "Building wheels for collected packages: AutoROM.accept-rom-license\n",
            "  Building wheel for AutoROM.accept-rom-license (pyproject.toml) ... \u001b[?25l\u001b[?25hdone\n",
            "  Created wheel for AutoROM.accept-rom-license: filename=AutoROM.accept_rom_license-0.6.1-py3-none-any.whl size=446660 sha256=5e2fb20e495565bf8e572e8ed0a1ec498b2483185d8b431cc25e9137bb9e3512\n",
            "  Stored in directory: /root/.cache/pip/wheels/6b/1b/ef/a43ff1a2f1736d5711faa1ba4c1f61be1131b8899e6a057811\n",
            "Successfully built AutoROM.accept-rom-license\n",
            "Installing collected packages: ale-py, shimmy, AutoROM.accept-rom-license, autorom\n",
            "Successfully installed AutoROM.accept-rom-license-0.6.1 ale-py-0.8.1 autorom-0.4.2 shimmy-0.2.1\n",
            "Reading package lists... Done\n",
            "Building dependency tree... Done\n",
            "Reading state information... Done\n",
            "The following additional packages will be installed:\n",
            "  swig4.0\n",
            "Suggested packages:\n",
            "  swig-doc swig-examples swig4.0-examples swig4.0-doc\n",
            "The following NEW packages will be installed:\n",
            "  swig swig4.0\n",
            "0 upgraded, 2 newly installed, 0 to remove and 45 not upgraded.\n",
            "Need to get 1,116 kB of archives.\n",
            "After this operation, 5,542 kB of additional disk space will be used.\n",
            "Get:1 http://archive.ubuntu.com/ubuntu jammy/universe amd64 swig4.0 amd64 4.0.2-1ubuntu1 [1,110 kB]\n",
            "Get:2 http://archive.ubuntu.com/ubuntu jammy/universe amd64 swig all 4.0.2-1ubuntu1 [5,632 B]\n",
            "Fetched 1,116 kB in 0s (4,018 kB/s)\n",
            "Selecting previously unselected package swig4.0.\n",
            "(Reading database ... 121925 files and directories currently installed.)\n",
            "Preparing to unpack .../swig4.0_4.0.2-1ubuntu1_amd64.deb ...\n",
            "Unpacking swig4.0 (4.0.2-1ubuntu1) ...\n",
            "Selecting previously unselected package swig.\n",
            "Preparing to unpack .../swig_4.0.2-1ubuntu1_all.deb ...\n",
            "Unpacking swig (4.0.2-1ubuntu1) ...\n",
            "Setting up swig4.0 (4.0.2-1ubuntu1) ...\n",
            "Setting up swig (4.0.2-1ubuntu1) ...\n",
            "Processing triggers for man-db (2.10.2-1) ...\n",
            "Requirement already satisfied: gymnasium[box2d] in /usr/local/lib/python3.10/dist-packages (0.29.1)\n",
            "Requirement already satisfied: numpy>=1.21.0 in /usr/local/lib/python3.10/dist-packages (from gymnasium[box2d]) (1.25.2)\n",
            "Requirement already satisfied: cloudpickle>=1.2.0 in /usr/local/lib/python3.10/dist-packages (from gymnasium[box2d]) (2.2.1)\n",
            "Requirement already satisfied: typing-extensions>=4.3.0 in /usr/local/lib/python3.10/dist-packages (from gymnasium[box2d]) (4.12.2)\n",
            "Requirement already satisfied: farama-notifications>=0.0.1 in /usr/local/lib/python3.10/dist-packages (from gymnasium[box2d]) (0.0.4)\n",
            "Collecting box2d-py==2.3.5 (from gymnasium[box2d])\n",
            "  Downloading box2d-py-2.3.5.tar.gz (374 kB)\n",
            "\u001b[2K     \u001b[90m━━━━━━━━━━━━━━━━━━━━━━━━━━━━━━━━━━━━━━━━\u001b[0m \u001b[32m374.4/374.4 kB\u001b[0m \u001b[31m6.9 MB/s\u001b[0m eta \u001b[36m0:00:00\u001b[0m\n",
            "\u001b[?25h  Preparing metadata (setup.py) ... \u001b[?25l\u001b[?25hdone\n",
            "Requirement already satisfied: pygame>=2.1.3 in /usr/local/lib/python3.10/dist-packages (from gymnasium[box2d]) (2.5.2)\n",
            "Collecting swig==4.* (from gymnasium[box2d])\n",
            "  Downloading swig-4.2.1-py2.py3-none-manylinux_2_5_x86_64.manylinux1_x86_64.whl (1.9 MB)\n",
            "\u001b[2K     \u001b[90m━━━━━━━━━━━━━━━━━━━━━━━━━━━━━━━━━━━━━━━━\u001b[0m \u001b[32m1.9/1.9 MB\u001b[0m \u001b[31m46.1 MB/s\u001b[0m eta \u001b[36m0:00:00\u001b[0m\n",
            "\u001b[?25hBuilding wheels for collected packages: box2d-py\n",
            "  Building wheel for box2d-py (setup.py) ... \u001b[?25l\u001b[?25hdone\n",
            "  Created wheel for box2d-py: filename=box2d_py-2.3.5-cp310-cp310-linux_x86_64.whl size=2349116 sha256=423345a3b0adfc66327577d8d5e1fa82596c34f3cd578d6e0b1bc32010d2d2ef\n",
            "  Stored in directory: /root/.cache/pip/wheels/db/8f/6a/eaaadf056fba10a98d986f6dce954e6201ba3126926fc5ad9e\n",
            "Successfully built box2d-py\n",
            "Installing collected packages: swig, box2d-py\n",
            "Successfully installed box2d-py-2.3.5 swig-4.2.1\n"
          ]
        }
      ],
      "source": [
        "!pip install gymnasium\n",
        "!pip install \"gymnasium[atari, accept-rom-license]\"\n",
        "!apt-get install -y swig\n",
        "!pip install gymnasium[box2d]"
      ]
    },
    {
      "cell_type": "markdown",
      "metadata": {
        "id": "brqiMN3UW9T9"
      },
      "source": [
        "### Importing the libraries"
      ]
    },
    {
      "cell_type": "code",
      "execution_count": null,
      "metadata": {
        "id": "mZaKXP_aMl9O"
      },
      "outputs": [],
      "source": [
        "import os\n",
        "import random\n",
        "import numpy as np\n",
        "import torch\n",
        "import torch.nn as nn\n",
        "import torch.optim as optim\n",
        "import torch.nn.functional as F\n",
        "import torch.autograd as autograd\n",
        "from torch.autograd import Variable\n",
        "from collections import deque, namedtuple"
      ]
    },
    {
      "cell_type": "markdown",
      "metadata": {
        "id": "EzlDKXvkXzGI"
      },
      "source": [
        "## Part 1 - Building the AI"
      ]
    },
    {
      "cell_type": "markdown",
      "metadata": {
        "id": "UtG6Zc83YYy3"
      },
      "source": [
        "### Creating the architecture of the Neural Network"
      ]
    },
    {
      "cell_type": "code",
      "source": [
        "class Network(nn.Module):\n",
        "\n",
        "  def __init__(self, state_size, action_size, seed = 42):\n",
        "      super(Network, self).__init__()\n",
        "      self.seed = torch.manual_seed(seed)\n",
        "      self.fc1 = nn.Linear(state_size, 64)\n",
        "      self.fc2 = nn.Linear(64, 64)\n",
        "      self.fc3 = nn.Linear(64, action_size)\n",
        "\n",
        "  def forward(self, state):\n",
        "      x = self.fc1(state)\n",
        "      x = F.relu(x)\n",
        "      x = self.fc2(x)\n",
        "      x = F.relu(x)\n",
        "      return self.fc3(x)\n"
      ],
      "metadata": {
        "id": "LVB4ftlIaH0X"
      },
      "execution_count": null,
      "outputs": []
    },
    {
      "cell_type": "markdown",
      "metadata": {
        "id": "UxVrBnFWZKb1"
      },
      "source": [
        "## Part 2 - Training the AI"
      ]
    },
    {
      "cell_type": "markdown",
      "metadata": {
        "id": "T364fz9qZb2j"
      },
      "source": [
        "### Setting up the environment"
      ]
    },
    {
      "cell_type": "code",
      "source": [
        "import gymnasium as gym\n",
        "env = gym.make('LunarLander-v2')\n",
        "state_shape = env.observation_space.shape\n",
        "state_size = env.observation_space.shape[0]\n",
        "number_actions = env.action_space.n\n",
        "print('State shape:', state_shape)\n",
        "print('State size:', state_size)\n",
        "print('Number of actions:', number_actions)"
      ],
      "metadata": {
        "colab": {
          "base_uri": "https://localhost:8080/"
        },
        "id": "OlYC3wAWlZQO",
        "outputId": "07be4b4a-e352-4839-ffc2-12a4f649fd16"
      },
      "execution_count": null,
      "outputs": [
        {
          "output_type": "stream",
          "name": "stdout",
          "text": [
            "State shape: (8,)\n",
            "State size: 8\n",
            "Number of actions: 4\n"
          ]
        }
      ]
    },
    {
      "cell_type": "markdown",
      "metadata": {
        "id": "c_dZmOIvZgj-"
      },
      "source": [
        "### Initializing the hyperparameters"
      ]
    },
    {
      "cell_type": "code",
      "source": [
        "learning_rate = 5e-4\n",
        "minibatch_size = 100\n",
        "discount_factor = 0.99\n",
        "replay_buffer_size = int(1e5)\n",
        "interpolation_parameter = 1e-3"
      ],
      "metadata": {
        "colab": {
          "base_uri": "https://localhost:8080/"
        },
        "id": "WHFRnNRrmoeg",
        "outputId": "4bafd73d-b32f-46bf-d85f-27f4f7561171"
      },
      "execution_count": null,
      "outputs": [
        {
          "output_type": "stream",
          "name": "stderr",
          "text": [
            "/usr/local/lib/python3.10/dist-packages/ipykernel/ipkernel.py:283: DeprecationWarning: `should_run_async` will not call `transform_cell` automatically in the future. Please pass the result to `transformed_cell` argument and any exception that happen during thetransform in `preprocessing_exc_tuple` in IPython 7.17 and above.\n",
            "  and should_run_async(code)\n"
          ]
        }
      ]
    },
    {
      "cell_type": "markdown",
      "metadata": {
        "id": "8hD_Vs-bYnip"
      },
      "source": [
        "### Implementing Experience Replay"
      ]
    },
    {
      "cell_type": "code",
      "source": [
        "class ReplayMemory(object):\n",
        "  def __init__(self, capacity):\n",
        "      self.device = torch.device(\"cuda:0\" if torch.cuda.is_available() else \"cpu\")\n",
        "      self.capacity = capacity\n",
        "      self.memory = []\n",
        "\n",
        "  def push(self, event):\n",
        "    self.memory.append(event)\n",
        "    if len(self.memory) > self.capacity:\n",
        "      del self.memory[0]\n",
        "\n",
        "  def sample(self, batch_size):\n",
        "    experiences = random.sample(self.memory, k = batch_size)\n",
        "    states = torch.from_numpy(np.vstack([e[0] for e in experiences if e is not None])).float().to(self.device)\n",
        "    actions = torch.from_numpy(np.vstack([e[1] for e in experiences if e is not None])).long().to(self.device)\n",
        "    rewards = torch.from_numpy(np.vstack([e[2] for e in experiences if e is not None])).float().to(self.device)\n",
        "    next_states = torch.from_numpy(np.vstack([e[3] for e in experiences if e is not None])).float().to(self.device)\n",
        "    dones = torch.from_numpy(np.vstack([e[4] for e in experiences if e is not None]).astype(np.uint8)).float().to(self.device)\n",
        "    return states, next_states, actions, rewards, dones"
      ],
      "metadata": {
        "id": "97CwUOOonp5z"
      },
      "execution_count": null,
      "outputs": []
    },
    {
      "cell_type": "markdown",
      "metadata": {
        "id": "JmEkbFbUY6Jt"
      },
      "source": [
        "### Implementing the DQN class"
      ]
    },
    {
      "cell_type": "code",
      "source": [
        "class Agent():\n",
        "  def __init__(self, state_size, action_size):\n",
        "     self.device = torch.device(\"cuda:0\" if torch.cuda.is_available() else \"cpu\")\n",
        "     self.state_size = state_size\n",
        "     self.action_size = action_size\n",
        "     self.local_qnetwork = Network(state_size, action_size).to(self.device)\n",
        "     self.target_qnetwork = Network(state_size, action_size).to(self.device)\n",
        "     self.optimizer = optim.Adam(self.local_qnetwork.parameters(), lr = learning_rate)\n",
        "     self.memory = ReplayMemory(replay_buffer_size)\n",
        "     self.t_step = 0\n",
        "\n",
        "  def step(self, state, action, reward, next_state, done):\n",
        "    self.memory.push((state, action, reward, next_state, done))\n",
        "    self.t_step = (self.t_step + 1) % 4\n",
        "    if self.t_step == 0:\n",
        "      if len(self.memory.memory) > minibatch_size:\n",
        "        experiences = self.memory.sample(100)\n",
        "        self.learn(experiences, discount_factor)\n",
        "\n",
        "  def act(self, state, epsilon = 0.):\n",
        "    state = torch.from_numpy(state).float().unsqueeze(0).to(self.device)\n",
        "    self.local_qnetwork.eval()\n",
        "    with torch.no_grad():\n",
        "      action_values = self.local_qnetwork(state)\n",
        "    self.local_qnetwork.train()\n",
        "    if random.random() > epsilon:\n",
        "      return np.argmax(action_values.cpu().data.numpy())\n",
        "    else:\n",
        "      return random.choice(np.arange(self.action_size))\n",
        "\n",
        "  def learn(self, experiences, discount_factor):\n",
        "    states, next_states, actions, rewards, dones = experiences\n",
        "    next_q_targets = self.target_qnetwork(next_states).detach().max(1)[0].unsqueeze(1)\n",
        "    q_targets = rewards + (discount_factor * next_q_targets * (1 - dones))\n",
        "    q_expected = self.local_qnetwork(states).gather(1, actions)\n",
        "    loss = F.mse_loss(q_expected, q_targets)\n",
        "    self.optimizer.zero_grad()\n",
        "    loss.backward()\n",
        "    self.optimizer.step()\n",
        "    self.soft_update(self.local_qnetwork, self.target_qnetwork, interpolation_parameter)\n",
        "\n",
        "  def soft_update(self, local_model, target_model, interpolation_parameter):\n",
        "    for target_param, local_param in zip(target_model.parameters(), local_model.parameters()):\n",
        "      target_param.data.copy_(interpolation_parameter * local_param.data + (1.0 - interpolation_parameter) * target_param.data)"
      ],
      "metadata": {
        "id": "WTjyjRGZrUHR"
      },
      "execution_count": null,
      "outputs": []
    },
    {
      "cell_type": "markdown",
      "metadata": {
        "id": "o1tZElccZmf6"
      },
      "source": [
        "### Initializing the DQN agent"
      ]
    },
    {
      "cell_type": "code",
      "source": [
        "agent = Agent(state_size, number_actions)"
      ],
      "metadata": {
        "id": "1C9QjEtq2i9L"
      },
      "execution_count": null,
      "outputs": []
    },
    {
      "cell_type": "markdown",
      "metadata": {
        "id": "E8v0PtUfaVQp"
      },
      "source": [
        "### Training the DQN agent"
      ]
    },
    {
      "cell_type": "code",
      "source": [
        "number_episodes = 2000\n",
        "maximum_number_timesteps_per_episode = 1000\n",
        "epsilon_starting_value = 1.0\n",
        "epsilon_ending_value = 0.01\n",
        "epsilon_decay_value = 0.995\n",
        "epsilon = epsilon_starting_value\n",
        "scores_on_100_episodes = deque(maxlen = 100)\n",
        "\n",
        "for episode in range(1, number_episodes + 1):\n",
        "  state, _ = env.reset()\n",
        "  score = 0\n",
        "  for t in range(maximum_number_timesteps_per_episode):\n",
        "    action = agent.act(state, epsilon)\n",
        "    next_state, reward, done, _, _ = env.step(action)\n",
        "    agent.step(state, action, reward, next_state, done)\n",
        "    state = next_state\n",
        "    score += reward\n",
        "    if done:\n",
        "      break\n",
        "  scores_on_100_episodes.append(score)\n",
        "  epsilon = max(epsilon_ending_value, epsilon_decay_value * epsilon)\n",
        "  print('\\rEpisode {}\\tAverage Score: {:.2f}'.format(episode, np.mean(scores_on_100_episodes)), end = \"\")\n",
        "  if episode % 100 == 0:\n",
        "    print('\\rEpisode {}\\tAverage Score: {:.2f}'.format(episode, np.mean(scores_on_100_episodes)))\n",
        "  if np.mean(scores_on_100_episodes) >= 200.0:\n",
        "    print('\\nEnviroment solved in {:d} episodes!\\tAverage Score: {:.2f}'.format(episode - 100, np.mean(scores_on_100_episodes)))\n",
        "    torch.save(agent.local_qnetwork.state_dict(), 'checkpoint.pth')\n",
        "    break"
      ],
      "metadata": {
        "colab": {
          "base_uri": "https://localhost:8080/"
        },
        "id": "j0s6mdJY2_IF",
        "outputId": "e21e251a-9add-4f43-f731-906bf01f38b8"
      },
      "execution_count": null,
      "outputs": [
        {
          "output_type": "stream",
          "name": "stderr",
          "text": [
            "/usr/local/lib/python3.10/dist-packages/ipykernel/ipkernel.py:283: DeprecationWarning: `should_run_async` will not call `transform_cell` automatically in the future. Please pass the result to `transformed_cell` argument and any exception that happen during thetransform in `preprocessing_exc_tuple` in IPython 7.17 and above.\n",
            "  and should_run_async(code)\n"
          ]
        },
        {
          "output_type": "stream",
          "name": "stdout",
          "text": [
            "Episode 100\tAverage Score: -168.57\n",
            "Episode 200\tAverage Score: -119.91\n",
            "Episode 300\tAverage Score: -36.24\n",
            "Episode 400\tAverage Score: 9.07\n",
            "Episode 500\tAverage Score: 92.58\n",
            "Episode 600\tAverage Score: 145.35\n",
            "Episode 700\tAverage Score: 176.63\n",
            "Episode 790\tAverage Score: 201.53\n",
            "Enviroment solved in 690 episodes!\tAverage Score: 201.53\n"
          ]
        }
      ]
    },
    {
      "cell_type": "markdown",
      "metadata": {
        "id": "O8CNwdOTcCoP"
      },
      "source": [
        "## Part 3 - Visualizing the results"
      ]
    },
    {
      "cell_type": "code",
      "execution_count": null,
      "metadata": {
        "id": "cb9nVvU2Okhk",
        "colab": {
          "base_uri": "https://localhost:8080/",
          "height": 459
        },
        "outputId": "c299341d-5ddc-4131-efde-b66718d6b80b"
      },
      "outputs": [
        {
          "output_type": "stream",
          "name": "stderr",
          "text": [
            "WARNING:imageio_ffmpeg:IMAGEIO FFMPEG_WRITER WARNING: input image is not divisible by macro_block_size=16, resizing from (600, 400) to (608, 400) to ensure video compatibility with most codecs and players. To prevent resizing, make your input image divisible by the macro_block_size or set the macro_block_size to 1 (risking incompatibility).\n"
          ]
        },
        {
          "output_type": "display_data",
          "data": {
            "text/plain": [
              "<IPython.core.display.HTML object>"
            ],
            "text/html": [
              "<video alt=\"test\" autoplay\n",
              "                loop controls style=\"height: 400px;\">\n",
              "                <source src=\"data:video/mp4;base64,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\" type=\"video/mp4\" />\n",
              "             </video>"
            ]
          },
          "metadata": {}
        }
      ],
      "source": [
        "import glob\n",
        "import io\n",
        "import base64\n",
        "import imageio\n",
        "from IPython.display import HTML, display\n",
        "from gym.wrappers.monitoring.video_recorder import VideoRecorder\n",
        "\n",
        "def show_video_of_model(agent, env_name):\n",
        "    env = gym.make(env_name, render_mode='rgb_array')\n",
        "    state, _ = env.reset()\n",
        "    done = False\n",
        "    frames = []\n",
        "    while not done:\n",
        "        frame = env.render()\n",
        "        frames.append(frame)\n",
        "        action = agent.act(state)\n",
        "        state, reward, done, _, _ = env.step(action.item())\n",
        "    env.close()\n",
        "    imageio.mimsave('video.mp4', frames, fps=30)\n",
        "\n",
        "show_video_of_model(agent, 'LunarLander-v2')\n",
        "\n",
        "def show_video():\n",
        "    mp4list = glob.glob('*.mp4')\n",
        "    if len(mp4list) > 0:\n",
        "        mp4 = mp4list[0]\n",
        "        video = io.open(mp4, 'r+b').read()\n",
        "        encoded = base64.b64encode(video)\n",
        "        display(HTML(data='''<video alt=\"test\" autoplay\n",
        "                loop controls style=\"height: 400px;\">\n",
        "                <source src=\"data:video/mp4;base64,{0}\" type=\"video/mp4\" />\n",
        "             </video>'''.format(encoded.decode('ascii'))))\n",
        "    else:\n",
        "        print(\"Could not find video\")\n",
        "\n",
        "show_video()"
      ]
    }
  ],
  "metadata": {
    "colab": {
      "provenance": []
    },
    "kernelspec": {
      "display_name": "Python 3",
      "name": "python3"
    },
    "language_info": {
      "name": "python"
    }
  },
  "nbformat": 4,
  "nbformat_minor": 0
}