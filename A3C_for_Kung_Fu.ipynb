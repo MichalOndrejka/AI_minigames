{
  "cells": [
    {
      "cell_type": "markdown",
      "metadata": {
        "id": "dIo6Zkp7U1Hq"
      },
      "source": [
        "# A3C for Kung Fu"
      ]
    },
    {
      "cell_type": "markdown",
      "metadata": {
        "id": "pz8ogVxGVB6b"
      },
      "source": [
        "## Part 0 - Installing the required packages and importing the libraries"
      ]
    },
    {
      "cell_type": "markdown",
      "metadata": {
        "id": "CqN2IEX1VKzi"
      },
      "source": [
        "### Installing Gymnasium"
      ]
    },
    {
      "cell_type": "code",
      "execution_count": null,
      "metadata": {
        "colab": {
          "base_uri": "https://localhost:8080/"
        },
        "id": "dbnq3XpoKa_7",
        "outputId": "2ed0852d-1896-4dd1-d762-f20aa87a2d27"
      },
      "outputs": [
        {
          "name": "stderr",
          "output_type": "stream",
          "text": [
            "/usr/local/lib/python3.10/dist-packages/ipykernel/ipkernel.py:283: DeprecationWarning: `should_run_async` will not call `transform_cell` automatically in the future. Please pass the result to `transformed_cell` argument and any exception that happen during thetransform in `preprocessing_exc_tuple` in IPython 7.17 and above.\n",
            "  and should_run_async(code)\n"
          ]
        },
        {
          "name": "stdout",
          "output_type": "stream",
          "text": [
            "Requirement already satisfied: gymnasium in /usr/local/lib/python3.10/dist-packages (0.29.1)\n",
            "Requirement already satisfied: numpy>=1.21.0 in /usr/local/lib/python3.10/dist-packages (from gymnasium) (1.25.2)\n",
            "Requirement already satisfied: cloudpickle>=1.2.0 in /usr/local/lib/python3.10/dist-packages (from gymnasium) (2.2.1)\n",
            "Requirement already satisfied: typing-extensions>=4.3.0 in /usr/local/lib/python3.10/dist-packages (from gymnasium) (4.12.2)\n",
            "Requirement already satisfied: farama-notifications>=0.0.1 in /usr/local/lib/python3.10/dist-packages (from gymnasium) (0.0.4)\n",
            "Requirement already satisfied: gymnasium[accept-rom-license,atari] in /usr/local/lib/python3.10/dist-packages (0.29.1)\n",
            "Requirement already satisfied: numpy>=1.21.0 in /usr/local/lib/python3.10/dist-packages (from gymnasium[accept-rom-license,atari]) (1.25.2)\n",
            "Requirement already satisfied: cloudpickle>=1.2.0 in /usr/local/lib/python3.10/dist-packages (from gymnasium[accept-rom-license,atari]) (2.2.1)\n",
            "Requirement already satisfied: typing-extensions>=4.3.0 in /usr/local/lib/python3.10/dist-packages (from gymnasium[accept-rom-license,atari]) (4.12.2)\n",
            "Requirement already satisfied: farama-notifications>=0.0.1 in /usr/local/lib/python3.10/dist-packages (from gymnasium[accept-rom-license,atari]) (0.0.4)\n",
            "Requirement already satisfied: shimmy[atari]<1.0,>=0.1.0 in /usr/local/lib/python3.10/dist-packages (from gymnasium[accept-rom-license,atari]) (0.2.1)\n",
            "Requirement already satisfied: autorom[accept-rom-license]~=0.4.2 in /usr/local/lib/python3.10/dist-packages (from gymnasium[accept-rom-license,atari]) (0.4.2)\n",
            "Requirement already satisfied: click in /usr/local/lib/python3.10/dist-packages (from autorom[accept-rom-license]~=0.4.2->gymnasium[accept-rom-license,atari]) (8.1.7)\n",
            "Requirement already satisfied: requests in /usr/local/lib/python3.10/dist-packages (from autorom[accept-rom-license]~=0.4.2->gymnasium[accept-rom-license,atari]) (2.31.0)\n",
            "Requirement already satisfied: tqdm in /usr/local/lib/python3.10/dist-packages (from autorom[accept-rom-license]~=0.4.2->gymnasium[accept-rom-license,atari]) (4.66.4)\n",
            "Requirement already satisfied: AutoROM.accept-rom-license in /usr/local/lib/python3.10/dist-packages (from autorom[accept-rom-license]~=0.4.2->gymnasium[accept-rom-license,atari]) (0.6.1)\n",
            "Requirement already satisfied: ale-py~=0.8.1 in /usr/local/lib/python3.10/dist-packages (from shimmy[atari]<1.0,>=0.1.0->gymnasium[accept-rom-license,atari]) (0.8.1)\n",
            "Requirement already satisfied: importlib-resources in /usr/local/lib/python3.10/dist-packages (from ale-py~=0.8.1->shimmy[atari]<1.0,>=0.1.0->gymnasium[accept-rom-license,atari]) (6.4.0)\n",
            "Requirement already satisfied: charset-normalizer<4,>=2 in /usr/local/lib/python3.10/dist-packages (from requests->autorom[accept-rom-license]~=0.4.2->gymnasium[accept-rom-license,atari]) (3.3.2)\n",
            "Requirement already satisfied: idna<4,>=2.5 in /usr/local/lib/python3.10/dist-packages (from requests->autorom[accept-rom-license]~=0.4.2->gymnasium[accept-rom-license,atari]) (3.7)\n",
            "Requirement already satisfied: urllib3<3,>=1.21.1 in /usr/local/lib/python3.10/dist-packages (from requests->autorom[accept-rom-license]~=0.4.2->gymnasium[accept-rom-license,atari]) (2.0.7)\n",
            "Requirement already satisfied: certifi>=2017.4.17 in /usr/local/lib/python3.10/dist-packages (from requests->autorom[accept-rom-license]~=0.4.2->gymnasium[accept-rom-license,atari]) (2024.6.2)\n",
            "Reading package lists... Done\n",
            "Building dependency tree... Done\n",
            "Reading state information... Done\n",
            "swig is already the newest version (4.0.2-1ubuntu1).\n",
            "0 upgraded, 0 newly installed, 0 to remove and 45 not upgraded.\n",
            "Requirement already satisfied: gymnasium[box2d] in /usr/local/lib/python3.10/dist-packages (0.29.1)\n",
            "Requirement already satisfied: numpy>=1.21.0 in /usr/local/lib/python3.10/dist-packages (from gymnasium[box2d]) (1.25.2)\n",
            "Requirement already satisfied: cloudpickle>=1.2.0 in /usr/local/lib/python3.10/dist-packages (from gymnasium[box2d]) (2.2.1)\n",
            "Requirement already satisfied: typing-extensions>=4.3.0 in /usr/local/lib/python3.10/dist-packages (from gymnasium[box2d]) (4.12.2)\n",
            "Requirement already satisfied: farama-notifications>=0.0.1 in /usr/local/lib/python3.10/dist-packages (from gymnasium[box2d]) (0.0.4)\n",
            "Requirement already satisfied: box2d-py==2.3.5 in /usr/local/lib/python3.10/dist-packages (from gymnasium[box2d]) (2.3.5)\n",
            "Requirement already satisfied: pygame>=2.1.3 in /usr/local/lib/python3.10/dist-packages (from gymnasium[box2d]) (2.5.2)\n",
            "Requirement already satisfied: swig==4.* in /usr/local/lib/python3.10/dist-packages (from gymnasium[box2d]) (4.2.1)\n"
          ]
        }
      ],
      "source": [
        "!pip install gymnasium\n",
        "!pip install \"gymnasium[atari, accept-rom-license]\"\n",
        "!apt-get install -y swig\n",
        "!pip install gymnasium[box2d]"
      ]
    },
    {
      "cell_type": "markdown",
      "metadata": {
        "id": "BrsNHNQqVZLK"
      },
      "source": [
        "### Importing the libraries"
      ]
    },
    {
      "cell_type": "code",
      "execution_count": null,
      "metadata": {
        "id": "Ho_25-9_9qnu"
      },
      "outputs": [],
      "source": [
        "import cv2\n",
        "import math\n",
        "import random\n",
        "import numpy as np\n",
        "import torch\n",
        "import torch.nn as nn\n",
        "import torch.optim as optim\n",
        "import torch.nn.functional as F\n",
        "import torch.multiprocessing as mp\n",
        "import torch.distributions as distributions\n",
        "from torch.distributions import Categorical\n",
        "import gymnasium as gym\n",
        "from gymnasium import ObservationWrapper\n",
        "from gymnasium.spaces import Box"
      ]
    },
    {
      "cell_type": "markdown",
      "metadata": {
        "id": "VF6EFSGUVlk2"
      },
      "source": [
        "## Part 1 - Building the AI"
      ]
    },
    {
      "cell_type": "markdown",
      "metadata": {
        "id": "qyNc8cxbZCYP"
      },
      "source": [
        "### Creating the architecture of the Neural Network"
      ]
    },
    {
      "cell_type": "code",
      "execution_count": null,
      "metadata": {
        "id": "1cPwIrEt9kyS"
      },
      "outputs": [],
      "source": [
        "class Network(nn.Module):\n",
        "\n",
        "  def __init__(self, action_size):\n",
        "    super(Network, self).__init__()\n",
        "    self.conv1 = torch.nn.Conv2d(in_channels = 4, out_channels = 32, kernel_size = (3,3), stride = 2)\n",
        "    self.conv2 = torch.nn.Conv2d(in_channels = 32, out_channels = 32, kernel_size = (3,3), stride = 2)\n",
        "    self.conv3 = torch.nn.Conv2d(in_channels = 32, out_channels = 32, kernel_size = (3,3), stride = 2)\n",
        "    self.flatten = torch.nn.Flatten()\n",
        "    self.fc1 = torch.nn.Linear(512, 128)\n",
        "    self.fc2a = torch.nn.Linear(128, action_size)\n",
        "    self.fc2s = torch.nn.Linear(128, 1)\n",
        "\n",
        "  def forward(self, state):\n",
        "    x = self.conv1(state)\n",
        "    x = F.relu(x)\n",
        "    x = self.conv2(x)\n",
        "    x = F.relu(x)\n",
        "    x = self.conv3(x)\n",
        "    x = F.relu(x)\n",
        "\n",
        "    x = self.flatten(x)\n",
        "\n",
        "    x = self.fc1(x)\n",
        "    x = F.relu(x)\n",
        "    action_values = self.fc2a(x)\n",
        "    state_value = self.fc2s(x)[0]\n",
        "\n",
        "    return action_values, state_value\n"
      ]
    },
    {
      "cell_type": "markdown",
      "metadata": {
        "id": "eF5bETqbZbCG"
      },
      "source": [
        "## Part 2 - Training the AI"
      ]
    },
    {
      "cell_type": "markdown",
      "metadata": {
        "id": "3C2ydyKLZgaK"
      },
      "source": [
        "### Setting up the environment"
      ]
    },
    {
      "cell_type": "code",
      "execution_count": null,
      "metadata": {
        "colab": {
          "base_uri": "https://localhost:8080/"
        },
        "id": "gF756uIhRVcK",
        "outputId": "4a66a10a-057e-46e6-e51b-263eb98f59d9"
      },
      "outputs": [
        {
          "name": "stdout",
          "output_type": "stream",
          "text": [
            "Observation shape: (4, 42, 42)\n",
            "Number actions: 14\n",
            "Action names: ['NOOP', 'UP', 'RIGHT', 'LEFT', 'DOWN', 'DOWNRIGHT', 'DOWNLEFT', 'RIGHTFIRE', 'LEFTFIRE', 'DOWNFIRE', 'UPRIGHTFIRE', 'UPLEFTFIRE', 'DOWNRIGHTFIRE', 'DOWNLEFTFIRE']\n"
          ]
        },
        {
          "name": "stderr",
          "output_type": "stream",
          "text": [
            "/usr/local/lib/python3.10/dist-packages/gymnasium/envs/registration.py:513: DeprecationWarning: \u001b[33mWARN: The environment KungFuMasterDeterministic-v0 is out of date. You should consider upgrading to version `v4`.\u001b[0m\n",
            "  logger.deprecation(\n",
            "/usr/local/lib/python3.10/dist-packages/gymnasium/core.py:311: UserWarning: \u001b[33mWARN: env.get_action_meanings to get variables from other wrappers is deprecated and will be removed in v1.0, to get this variable you can do `env.unwrapped.get_action_meanings` for environment variables or `env.get_wrapper_attr('get_action_meanings')` that will search the reminding wrappers.\u001b[0m\n",
            "  logger.warn(\n"
          ]
        }
      ],
      "source": [
        "class PreprocessAtari(ObservationWrapper):\n",
        "\n",
        "  def __init__(self, env, height = 42, width = 42, crop = lambda img: img, dim_order = 'pytorch', color = False, n_frames = 4):\n",
        "    super(PreprocessAtari, self).__init__(env)\n",
        "    self.img_size = (height, width)\n",
        "    self.crop = crop\n",
        "    self.dim_order = dim_order\n",
        "    self.color = color\n",
        "    self.frame_stack = n_frames\n",
        "    n_channels = 3 * n_frames if color else n_frames\n",
        "    obs_shape = {'tensorflow': (height, width, n_channels), 'pytorch': (n_channels, height, width)}[dim_order]\n",
        "    self.observation_space = Box(0.0, 1.0, obs_shape)\n",
        "    self.frames = np.zeros(obs_shape, dtype = np.float32)\n",
        "\n",
        "  def reset(self):\n",
        "    self.frames = np.zeros_like(self.frames)\n",
        "    obs, info = self.env.reset()\n",
        "    self.update_buffer(obs)\n",
        "    return self.frames, info\n",
        "\n",
        "  def observation(self, img):\n",
        "    img = self.crop(img)\n",
        "    img = cv2.resize(img, self.img_size)\n",
        "    if not self.color:\n",
        "      if len(img.shape) == 3 and img.shape[2] == 3:\n",
        "        img = cv2.cvtColor(img, cv2.COLOR_BGR2GRAY)\n",
        "    img = img.astype('float32') / 255.\n",
        "    if self.color:\n",
        "      self.frames = np.roll(self.frames, shift = -3, axis = 0)\n",
        "    else:\n",
        "      self.frames = np.roll(self.frames, shift = -1, axis = 0)\n",
        "    if self.color:\n",
        "      self.frames[-3:] = img\n",
        "    else:\n",
        "      self.frames[-1] = img\n",
        "    return self.frames\n",
        "\n",
        "  def update_buffer(self, obs):\n",
        "    self.frames = self.observation(obs)\n",
        "\n",
        "def make_env():\n",
        "  env = gym.make(\"KungFuMasterDeterministic-v0\", render_mode = 'rgb_array')\n",
        "  env = PreprocessAtari(env, height = 42, width = 42, crop = lambda img: img, dim_order = 'pytorch', color = False, n_frames = 4)\n",
        "  return env\n",
        "\n",
        "env = make_env()\n",
        "\n",
        "state_shape = env.observation_space.shape\n",
        "number_actions = env.action_space.n\n",
        "print(\"Observation shape:\", state_shape)\n",
        "print(\"Number actions:\", number_actions)\n",
        "print(\"Action names:\", env.env.env.get_action_meanings())"
      ]
    },
    {
      "cell_type": "markdown",
      "metadata": {
        "id": "YgRlooBmC1hr"
      },
      "source": [
        "### Initializing the hyperparameters"
      ]
    },
    {
      "cell_type": "code",
      "execution_count": null,
      "metadata": {
        "id": "Bjwyx7pIuD1_"
      },
      "outputs": [],
      "source": [
        "learning_rate = 1e-4\n",
        "discount_factor = 0.99\n",
        "number_environments = 10"
      ]
    },
    {
      "cell_type": "markdown",
      "metadata": {
        "id": "Gg_LmSs9IoTX"
      },
      "source": [
        "### Implementing the A3C class"
      ]
    },
    {
      "cell_type": "code",
      "execution_count": null,
      "metadata": {
        "id": "tULRRC3vurrG"
      },
      "outputs": [],
      "source": [
        "class Agent():\n",
        "\n",
        "  def __init__(self, action_size):\n",
        "    self.device = torch.device(\"cuda:0\" if torch.cuda.is_available() else \"cpu\")\n",
        "    self.action_size = action_size\n",
        "    self.network = Network(action_size).to(self.device)\n",
        "    self.optimizer = torch.optim.Adam(self.network.parameters(), lr = learning_rate)\n",
        "\n",
        "  def act(self, state):\n",
        "    if state.ndim == 3:\n",
        "      state = [state]\n",
        "    state = torch.tensor(state, dtype = torch.float32, device = self.device)\n",
        "    action_values, _ = self.network(state)\n",
        "    policy = F.softmax(action_values, dim = -1)\n",
        "    return np.array([np.random.choice(len(p), p = p) for p in policy.detach().cpu().numpy()])\n",
        "\n",
        "  def step(self, state, action, reward, next_state, done):\n",
        "    batch_size = state.shape[0]\n",
        "    state = torch.tensor(state, dtype = torch.float32, device = self.device)\n",
        "    next_state = torch.tensor(next_state, dtype = torch.float32, device = self.device)\n",
        "    reward = torch.tensor(reward, dtype = torch.float32, device = self.device)\n",
        "    done = torch.tensor(done, dtype = torch.bool, device = self.device).to(dtype = torch.float32)\n",
        "    action_values, state_value = self.network(state)\n",
        "    _, next_state_value = self.network(next_state)\n",
        "    target_state_value = reward + discount_factor * next_state_value * (1 - done)\n",
        "    advantage = target_state_value - state_value\n",
        "    probs = F.softmax(action_values, dim = -1)\n",
        "    logprobs = F.log_softmax(action_values, dim = -1)\n",
        "    entropy = -torch.sum(probs * logprobs, axis = -1)\n",
        "    batch_idx = np.arange(batch_size)\n",
        "    logp_actions = logprobs[batch_idx, action]\n",
        "    actor_loss = -(logp_actions * advantage.detach()).mean() - 0.001 * entropy.mean()\n",
        "    critic_loss = F.mse_loss(target_state_value.detach(), state_value)\n",
        "    total_loss = actor_loss + critic_loss\n",
        "    self.optimizer.zero_grad()\n",
        "    total_loss.backward()\n",
        "    self.optimizer.step()"
      ]
    },
    {
      "cell_type": "markdown",
      "metadata": {
        "id": "7RnRukHDKFJ0"
      },
      "source": [
        "### Initializing the A3C agent"
      ]
    },
    {
      "cell_type": "code",
      "execution_count": null,
      "metadata": {
        "id": "AQBV7zly6oq8"
      },
      "outputs": [],
      "source": [
        "agent = Agent(number_actions)"
      ]
    },
    {
      "cell_type": "markdown",
      "metadata": {
        "id": "oB5SpmoKP0aK"
      },
      "source": [
        "### Evaluating our A3C agent on a single episode"
      ]
    },
    {
      "cell_type": "code",
      "execution_count": null,
      "metadata": {
        "id": "nfWTZgiX7IV2"
      },
      "outputs": [],
      "source": [
        "def evaluate(agent, env, n_episodes = 1):\n",
        "  episodes_rewards = []\n",
        "  for _ in range(n_episodes):\n",
        "    state, _ = env.reset()\n",
        "    total_reward = 0\n",
        "    while True:\n",
        "      action = agent.act(state)\n",
        "      state, reward, done, info, _ = env.step(action[0])\n",
        "      total_reward += reward\n",
        "      if done:\n",
        "        break\n",
        "    episodes_rewards.append(total_reward)\n",
        "  return episodes_rewards"
      ]
    },
    {
      "cell_type": "markdown",
      "metadata": {
        "id": "jVSqiyjiQeMd"
      },
      "source": [
        "### Testing multiple agents on multiple environments at the same time"
      ]
    },
    {
      "cell_type": "code",
      "execution_count": null,
      "metadata": {
        "id": "Qr_GsQOT9Zps"
      },
      "outputs": [],
      "source": [
        "class EnvBatch():\n",
        "\n",
        "  def __init__(self, n_envs = 10):\n",
        "    self.envs = [make_env() for _ in range(n_envs)]\n",
        "\n",
        "  def reset(self):\n",
        "    _states = []\n",
        "    for env in self.envs:\n",
        "      _states.append(env.reset()[0])\n",
        "    return np.array(_states)\n",
        "\n",
        "  def step(self, actions):\n",
        "    next_states, rewards, dones, infos, _ = map(np.array, zip(*[env.step(a) for env, a in zip(self.envs, actions)]))\n",
        "    for i in range(len(self.envs)):\n",
        "      if dones[i]:\n",
        "        next_states[i] = self.envs[i].reset()[0]\n",
        "    return next_states, rewards, dones, infos"
      ]
    },
    {
      "cell_type": "markdown",
      "metadata": {
        "id": "69WZWB4oRx1P"
      },
      "source": [
        "### Training the A3C agent"
      ]
    },
    {
      "cell_type": "code",
      "execution_count": null,
      "metadata": {
        "colab": {
          "background_save": true,
          "base_uri": "https://localhost:8080/"
        },
        "id": "smlnpnSeQ2sb",
        "outputId": "c55c928f-4349-4b27-e08b-385e70f1032e"
      },
      "outputs": [
        {
          "name": "stderr",
          "output_type": "stream",
          "text": [
            "  0%|          | 0/50001 [00:00<?, ?it/s]<ipython-input-40-bbc270bdb826>:33: UserWarning: Using a target size (torch.Size([1])) that is different to the input size (torch.Size([10])). This will likely lead to incorrect results due to broadcasting. Please ensure they have the same size.\n",
            "  critic_loss = F.mse_loss(target_state_value.detach(), state_value)\n",
            "  0%|          | 4/50001 [00:36<95:14:21,  6.86s/it] "
          ]
        },
        {
          "name": "stdout",
          "output_type": "stream",
          "text": [
            "Average agent reward:  250.0\n"
          ]
        },
        {
          "name": "stderr",
          "output_type": "stream",
          "text": [
            "  2%|▏         | 1005/50001 [01:50<33:44:05,  2.48s/it]"
          ]
        },
        {
          "name": "stdout",
          "output_type": "stream",
          "text": [
            "Average agent reward:  330.0\n"
          ]
        },
        {
          "name": "stderr",
          "output_type": "stream",
          "text": [
            "  4%|▍         | 2005/50001 [02:59<28:28:04,  2.14s/it]"
          ]
        },
        {
          "name": "stdout",
          "output_type": "stream",
          "text": [
            "Average agent reward:  310.0\n"
          ]
        },
        {
          "name": "stderr",
          "output_type": "stream",
          "text": [
            "  6%|▌         | 3005/50001 [04:13<32:08:49,  2.46s/it]"
          ]
        },
        {
          "name": "stdout",
          "output_type": "stream",
          "text": [
            "Average agent reward:  680.0\n"
          ]
        },
        {
          "name": "stderr",
          "output_type": "stream",
          "text": [
            "  8%|▊         | 4005/50001 [05:24<27:24:21,  2.14s/it]"
          ]
        },
        {
          "name": "stdout",
          "output_type": "stream",
          "text": [
            "Average agent reward:  470.0\n"
          ]
        },
        {
          "name": "stderr",
          "output_type": "stream",
          "text": [
            " 10%|█         | 5005/50001 [06:26<21:01:09,  1.68s/it]"
          ]
        },
        {
          "name": "stdout",
          "output_type": "stream",
          "text": [
            "Average agent reward:  120.0\n"
          ]
        },
        {
          "name": "stderr",
          "output_type": "stream",
          "text": [
            " 12%|█▏        | 6004/50001 [07:38<33:33:33,  2.75s/it]"
          ]
        },
        {
          "name": "stdout",
          "output_type": "stream",
          "text": [
            "Average agent reward:  650.0\n"
          ]
        },
        {
          "name": "stderr",
          "output_type": "stream",
          "text": [
            " 14%|█▍        | 7005/50001 [08:52<32:42:59,  2.74s/it]"
          ]
        },
        {
          "name": "stdout",
          "output_type": "stream",
          "text": [
            "Average agent reward:  710.0\n"
          ]
        },
        {
          "name": "stderr",
          "output_type": "stream",
          "text": [
            " 16%|█▌        | 8006/50001 [09:56<22:10:14,  1.90s/it]"
          ]
        },
        {
          "name": "stdout",
          "output_type": "stream",
          "text": [
            "Average agent reward:  380.0\n"
          ]
        },
        {
          "name": "stderr",
          "output_type": "stream",
          "text": [
            " 18%|█▊        | 9005/50001 [11:07<26:13:56,  2.30s/it]"
          ]
        },
        {
          "name": "stdout",
          "output_type": "stream",
          "text": [
            "Average agent reward:  920.0\n"
          ]
        },
        {
          "name": "stderr",
          "output_type": "stream",
          "text": [
            " 20%|██        | 10004/50001 [12:16<32:30:10,  2.93s/it]"
          ]
        },
        {
          "name": "stdout",
          "output_type": "stream",
          "text": [
            "Average agent reward:  440.0\n"
          ]
        },
        {
          "name": "stderr",
          "output_type": "stream",
          "text": [
            " 22%|██▏       | 11005/50001 [13:24<22:58:27,  2.12s/it]"
          ]
        },
        {
          "name": "stdout",
          "output_type": "stream",
          "text": [
            "Average agent reward:  670.0\n"
          ]
        },
        {
          "name": "stderr",
          "output_type": "stream",
          "text": [
            " 24%|██▍       | 12005/50001 [14:32<21:48:47,  2.07s/it]"
          ]
        },
        {
          "name": "stdout",
          "output_type": "stream",
          "text": [
            "Average agent reward:  810.0\n"
          ]
        },
        {
          "name": "stderr",
          "output_type": "stream",
          "text": [
            " 26%|██▌       | 13005/50001 [15:39<25:15:38,  2.46s/it]"
          ]
        },
        {
          "name": "stdout",
          "output_type": "stream",
          "text": [
            "Average agent reward:  440.0\n"
          ]
        },
        {
          "name": "stderr",
          "output_type": "stream",
          "text": [
            " 28%|██▊       | 14005/50001 [16:48<20:19:34,  2.03s/it]"
          ]
        },
        {
          "name": "stdout",
          "output_type": "stream",
          "text": [
            "Average agent reward:  540.0\n"
          ]
        },
        {
          "name": "stderr",
          "output_type": "stream",
          "text": [
            " 30%|███       | 15005/50001 [17:59<23:36:26,  2.43s/it]"
          ]
        },
        {
          "name": "stdout",
          "output_type": "stream",
          "text": [
            "Average agent reward:  590.0\n"
          ]
        },
        {
          "name": "stderr",
          "output_type": "stream",
          "text": [
            " 32%|███▏      | 16004/50001 [19:04<22:04:38,  2.34s/it]"
          ]
        },
        {
          "name": "stdout",
          "output_type": "stream",
          "text": [
            "Average agent reward:  450.0\n"
          ]
        },
        {
          "name": "stderr",
          "output_type": "stream",
          "text": [
            " 34%|███▍      | 17005/50001 [20:07<16:16:07,  1.77s/it]"
          ]
        },
        {
          "name": "stdout",
          "output_type": "stream",
          "text": [
            "Average agent reward:  130.0\n"
          ]
        },
        {
          "name": "stderr",
          "output_type": "stream",
          "text": [
            " 36%|███▌      | 18005/50001 [21:11<18:24:11,  2.07s/it]"
          ]
        },
        {
          "name": "stdout",
          "output_type": "stream",
          "text": [
            "Average agent reward:  270.0\n"
          ]
        },
        {
          "name": "stderr",
          "output_type": "stream",
          "text": [
            " 38%|███▊      | 19005/50001 [22:25<22:17:00,  2.59s/it]"
          ]
        },
        {
          "name": "stdout",
          "output_type": "stream",
          "text": [
            "Average agent reward:  710.0\n"
          ]
        },
        {
          "name": "stderr",
          "output_type": "stream",
          "text": [
            " 40%|████      | 20004/50001 [23:36<19:04:00,  2.29s/it]"
          ]
        },
        {
          "name": "stdout",
          "output_type": "stream",
          "text": [
            "Average agent reward:  560.0\n"
          ]
        },
        {
          "name": "stderr",
          "output_type": "stream",
          "text": [
            " 42%|████▏     | 21005/50001 [24:47<18:01:29,  2.24s/it]"
          ]
        },
        {
          "name": "stdout",
          "output_type": "stream",
          "text": [
            "Average agent reward:  580.0\n"
          ]
        },
        {
          "name": "stderr",
          "output_type": "stream",
          "text": [
            " 44%|████▍     | 22005/50001 [25:51<13:15:07,  1.70s/it]"
          ]
        },
        {
          "name": "stdout",
          "output_type": "stream",
          "text": [
            "Average agent reward:  330.0\n"
          ]
        },
        {
          "name": "stderr",
          "output_type": "stream",
          "text": [
            " 46%|████▌     | 23005/50001 [26:59<14:47:14,  1.97s/it]"
          ]
        },
        {
          "name": "stdout",
          "output_type": "stream",
          "text": [
            "Average agent reward:  560.0\n"
          ]
        },
        {
          "name": "stderr",
          "output_type": "stream",
          "text": [
            " 48%|████▊     | 24004/50001 [28:09<18:36:57,  2.58s/it]"
          ]
        },
        {
          "name": "stdout",
          "output_type": "stream",
          "text": [
            "Average agent reward:  630.0\n"
          ]
        },
        {
          "name": "stderr",
          "output_type": "stream",
          "text": [
            " 50%|█████     | 25004/50001 [29:26<22:05:16,  3.18s/it]"
          ]
        },
        {
          "name": "stdout",
          "output_type": "stream",
          "text": [
            "Average agent reward:  1190.0\n"
          ]
        },
        {
          "name": "stderr",
          "output_type": "stream",
          "text": [
            " 52%|█████▏    | 26005/50001 [30:44<16:50:37,  2.53s/it]"
          ]
        },
        {
          "name": "stdout",
          "output_type": "stream",
          "text": [
            "Average agent reward:  930.0\n"
          ]
        },
        {
          "name": "stderr",
          "output_type": "stream",
          "text": [
            " 54%|█████▍    | 27005/50001 [31:50<11:54:57,  1.87s/it]"
          ]
        },
        {
          "name": "stdout",
          "output_type": "stream",
          "text": [
            "Average agent reward:  390.0\n"
          ]
        },
        {
          "name": "stderr",
          "output_type": "stream",
          "text": [
            " 56%|█████▌    | 28005/50001 [33:08<17:00:58,  2.78s/it]"
          ]
        },
        {
          "name": "stdout",
          "output_type": "stream",
          "text": [
            "Average agent reward:  1060.0\n"
          ]
        },
        {
          "name": "stderr",
          "output_type": "stream",
          "text": [
            " 58%|█████▊    | 29005/50001 [34:24<13:50:43,  2.37s/it]"
          ]
        },
        {
          "name": "stdout",
          "output_type": "stream",
          "text": [
            "Average agent reward:  1080.0\n"
          ]
        },
        {
          "name": "stderr",
          "output_type": "stream",
          "text": [
            " 60%|██████    | 30005/50001 [35:34<12:29:31,  2.25s/it]"
          ]
        },
        {
          "name": "stdout",
          "output_type": "stream",
          "text": [
            "Average agent reward:  790.0\n"
          ]
        },
        {
          "name": "stderr",
          "output_type": "stream",
          "text": [
            " 62%|██████▏   | 31005/50001 [36:43<14:22:06,  2.72s/it]"
          ]
        },
        {
          "name": "stdout",
          "output_type": "stream",
          "text": [
            "Average agent reward:  440.0\n"
          ]
        },
        {
          "name": "stderr",
          "output_type": "stream",
          "text": [
            " 64%|██████▍   | 32004/50001 [37:57<12:24:06,  2.48s/it]"
          ]
        },
        {
          "name": "stdout",
          "output_type": "stream",
          "text": [
            "Average agent reward:  880.0\n"
          ]
        },
        {
          "name": "stderr",
          "output_type": "stream",
          "text": [
            " 66%|██████▌   | 33005/50001 [39:18<14:51:23,  3.15s/it]"
          ]
        },
        {
          "name": "stdout",
          "output_type": "stream",
          "text": [
            "Average agent reward:  1320.0\n"
          ]
        },
        {
          "name": "stderr",
          "output_type": "stream",
          "text": [
            " 68%|██████▊   | 34005/50001 [40:26<9:11:40,  2.07s/it] "
          ]
        },
        {
          "name": "stdout",
          "output_type": "stream",
          "text": [
            "Average agent reward:  590.0\n"
          ]
        },
        {
          "name": "stderr",
          "output_type": "stream",
          "text": [
            " 70%|███████   | 35005/50001 [41:31<9:08:13,  2.19s/it] "
          ]
        },
        {
          "name": "stdout",
          "output_type": "stream",
          "text": [
            "Average agent reward:  540.0\n"
          ]
        },
        {
          "name": "stderr",
          "output_type": "stream",
          "text": [
            " 72%|███████▏  | 36005/50001 [42:35<7:56:53,  2.04s/it] "
          ]
        },
        {
          "name": "stdout",
          "output_type": "stream",
          "text": [
            "Average agent reward:  340.0\n"
          ]
        },
        {
          "name": "stderr",
          "output_type": "stream",
          "text": [
            " 74%|███████▍  | 37004/50001 [43:41<8:13:08,  2.28s/it] "
          ]
        },
        {
          "name": "stdout",
          "output_type": "stream",
          "text": [
            "Average agent reward:  400.0\n"
          ]
        },
        {
          "name": "stderr",
          "output_type": "stream",
          "text": [
            " 76%|███████▌  | 38005/50001 [44:46<6:37:00,  1.99s/it]"
          ]
        },
        {
          "name": "stdout",
          "output_type": "stream",
          "text": [
            "Average agent reward:  310.0\n"
          ]
        },
        {
          "name": "stderr",
          "output_type": "stream",
          "text": [
            " 78%|███████▊  | 39005/50001 [45:53<7:11:32,  2.35s/it] "
          ]
        },
        {
          "name": "stdout",
          "output_type": "stream",
          "text": [
            "Average agent reward:  480.0\n"
          ]
        },
        {
          "name": "stderr",
          "output_type": "stream",
          "text": [
            " 80%|████████  | 40004/50001 [46:56<5:58:57,  2.15s/it]"
          ]
        },
        {
          "name": "stdout",
          "output_type": "stream",
          "text": [
            "Average agent reward:  170.0\n"
          ]
        },
        {
          "name": "stderr",
          "output_type": "stream",
          "text": [
            " 82%|████████▏ | 41005/50001 [48:06<6:11:49,  2.48s/it]"
          ]
        },
        {
          "name": "stdout",
          "output_type": "stream",
          "text": [
            "Average agent reward:  510.0\n"
          ]
        },
        {
          "name": "stderr",
          "output_type": "stream",
          "text": [
            " 84%|████████▍ | 42005/50001 [49:19<5:56:49,  2.68s/it]"
          ]
        },
        {
          "name": "stdout",
          "output_type": "stream",
          "text": [
            "Average agent reward:  740.0\n"
          ]
        },
        {
          "name": "stderr",
          "output_type": "stream",
          "text": [
            " 86%|████████▌ | 43004/50001 [50:29<6:08:27,  3.16s/it]"
          ]
        },
        {
          "name": "stdout",
          "output_type": "stream",
          "text": [
            "Average agent reward:  670.0\n"
          ]
        },
        {
          "name": "stderr",
          "output_type": "stream",
          "text": [
            " 88%|████████▊ | 44005/50001 [51:35<3:48:27,  2.29s/it]"
          ]
        },
        {
          "name": "stdout",
          "output_type": "stream",
          "text": [
            "Average agent reward:  800.0\n"
          ]
        },
        {
          "name": "stderr",
          "output_type": "stream",
          "text": [
            " 90%|█████████ | 45005/50001 [52:43<3:11:56,  2.31s/it]"
          ]
        },
        {
          "name": "stdout",
          "output_type": "stream",
          "text": [
            "Average agent reward:  470.0\n"
          ]
        },
        {
          "name": "stderr",
          "output_type": "stream",
          "text": [
            " 92%|█████████▏| 46005/50001 [53:48<2:47:29,  2.51s/it]"
          ]
        },
        {
          "name": "stdout",
          "output_type": "stream",
          "text": [
            "Average agent reward:  250.0\n"
          ]
        },
        {
          "name": "stderr",
          "output_type": "stream",
          "text": [
            " 94%|█████████▍| 47005/50001 [54:58<2:03:01,  2.46s/it]"
          ]
        },
        {
          "name": "stdout",
          "output_type": "stream",
          "text": [
            "Average agent reward:  860.0\n"
          ]
        },
        {
          "name": "stderr",
          "output_type": "stream",
          "text": [
            " 96%|█████████▌| 48005/50001 [56:01<1:02:02,  1.86s/it]"
          ]
        },
        {
          "name": "stdout",
          "output_type": "stream",
          "text": [
            "Average agent reward:  320.0\n"
          ]
        },
        {
          "name": "stderr",
          "output_type": "stream",
          "text": [
            " 98%|█████████▊| 49003/50001 [57:16<52:12,  3.14s/it]  "
          ]
        },
        {
          "name": "stdout",
          "output_type": "stream",
          "text": [
            "Average agent reward:  800.0\n"
          ]
        },
        {
          "name": "stderr",
          "output_type": "stream",
          "text": [
            "100%|██████████| 50001/50001 [58:26<00:00, 14.26it/s]"
          ]
        },
        {
          "name": "stdout",
          "output_type": "stream",
          "text": [
            "Average agent reward:  650.0\n"
          ]
        },
        {
          "name": "stderr",
          "output_type": "stream",
          "text": [
            "\n"
          ]
        }
      ],
      "source": [
        "import tqdm\n",
        "\n",
        "env_batch = EnvBatch(number_environments)\n",
        "batch_states = env_batch.reset()\n",
        "\n",
        "with tqdm.trange(0, 50001) as progress_bar:\n",
        "  for i in progress_bar:\n",
        "    batch_actions = agent.act(batch_states)\n",
        "    batch_next_states, batch_rewards, batch_dones, _ = env_batch.step(batch_actions)\n",
        "    batch_rewards *= 0.01\n",
        "    agent.step(batch_states, batch_actions, batch_rewards, batch_next_states, batch_dones)\n",
        "    batch_states = batch_next_states\n",
        "    if i % 1000 == 0:\n",
        "      print(\"Average agent reward: \", np.mean(evaluate(agent, env, n_episodes = 10)))"
      ]
    },
    {
      "cell_type": "markdown",
      "metadata": {
        "id": "7kG_YR9YdmUM"
      },
      "source": [
        "## Part 3 - Visualizing the results"
      ]
    },
    {
      "cell_type": "code",
      "execution_count": null,
      "metadata": {
        "colab": {
          "base_uri": "https://localhost:8080/",
          "height": 459
        },
        "id": "UGkTuO6DxZ6B",
        "outputId": "e7359ade-d7f0-4b1d-c5c9-b07cc662f216"
      },
      "outputs": [
        {
          "output_type": "stream",
          "name": "stderr",
          "text": [
            "WARNING:imageio_ffmpeg:IMAGEIO FFMPEG_WRITER WARNING: input image is not divisible by macro_block_size=16, resizing from (160, 210) to (160, 224) to ensure video compatibility with most codecs and players. To prevent resizing, make your input image divisible by the macro_block_size or set the macro_block_size to 1 (risking incompatibility).\n"
          ]
        },
        {
          "output_type": "display_data",
          "data": {
            "text/plain": [
              "<IPython.core.display.HTML object>"
            ],
            "text/html": [
              "<video alt=\"test\" autoplay\n",
              "                loop controls style=\"height: 400px;\">\n",
              "                <source src=\"data:video/mp4;base64,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\" type=\"video/mp4\" />\n",
              "             </video>"
            ]
          },
          "metadata": {}
        }
      ],
      "source": [
        "import glob\n",
        "import io\n",
        "import base64\n",
        "import imageio\n",
        "from IPython.display import HTML, display\n",
        "from gymnasium.wrappers.monitoring.video_recorder import VideoRecorder\n",
        "\n",
        "def show_video_of_model(agent, env):\n",
        "  state, _ = env.reset()\n",
        "  done = False\n",
        "  frames = []\n",
        "  while not done:\n",
        "    frame = env.render()\n",
        "    frames.append(frame)\n",
        "    action = agent.act(state)\n",
        "    state, reward, done, _, _ = env.step(action[0])\n",
        "  env.close()\n",
        "  imageio.mimsave('video.mp4', frames, fps=30)\n",
        "\n",
        "show_video_of_model(agent, env)\n",
        "\n",
        "def show_video():\n",
        "    mp4list = glob.glob('*.mp4')\n",
        "    if len(mp4list) > 0:\n",
        "        mp4 = mp4list[0]\n",
        "        video = io.open(mp4, 'r+b').read()\n",
        "        encoded = base64.b64encode(video)\n",
        "        display(HTML(data='''<video alt=\"test\" autoplay\n",
        "                loop controls style=\"height: 400px;\">\n",
        "                <source src=\"data:video/mp4;base64,{0}\" type=\"video/mp4\" />\n",
        "             </video>'''.format(encoded.decode('ascii'))))\n",
        "    else:\n",
        "        print(\"Could not find video\")\n",
        "\n",
        "show_video()"
      ]
    }
  ],
  "metadata": {
    "accelerator": "GPU",
    "colab": {
      "gpuType": "T4",
      "provenance": []
    },
    "kernelspec": {
      "display_name": "Python 3",
      "name": "python3"
    },
    "language_info": {
      "name": "python"
    }
  },
  "nbformat": 4,
  "nbformat_minor": 0
}